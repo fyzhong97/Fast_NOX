{
 "cells": [
  {
   "cell_type": "markdown",
   "metadata": {},
   "source": [
    "This is the code for the data extractor."
   ]
  },
  {
   "cell_type": "markdown",
   "metadata": {},
   "source": [
    "First, some maintenance work."
   ]
  },
  {
   "cell_type": "code",
   "execution_count": 1,
   "metadata": {},
   "outputs": [],
   "source": [
    "import matplotlib.pyplot as plt\n",
    "import numpy as np\n",
    "import pandas as pd\n",
    "import glob\n",
    "\n",
    "#let python display all columns on output.\n",
    "pd.set_option('display.max_columns', None)"
   ]
  },
  {
   "cell_type": "markdown",
   "metadata": {},
   "source": [
    "File_Assember( ):\n",
    "Read one or multiple concatenated files into a dataframe.\n",
    "\n",
    "Input: file path.\n",
    "\n",
    "Output: A pandas dataframe."
   ]
  },
  {
   "cell_type": "code",
   "execution_count": 2,
   "metadata": {},
   "outputs": [],
   "source": [
    "#set the file path, users can change to their own paths\n",
    "path = r'C:\\Users\\Eric Zhong\\Documents\\2.INTERNSHIP\\RESEARCH\\iFiles_for_Leo'\n",
    "\n",
    "#The function passes in the file path and file_no_, which means the number of file in order. \n",
    "#For example, we want to read the 5th txt file only: File_Assembler(path_, 5, 5)\n",
    "#If we want to read files 1 - 7: File_Assembler(path_, 1, 7)\n",
    "#in total 58 txt files for now\n",
    "\n",
    "def File_Assembler(path_, file_lwr_, file_upper_):\n",
    "    all_files = glob.glob(path_ + \"/*.txt\")\n",
    "    count = 0\n",
    "    #create an empty array, and use a for loop to append files to the array.\n",
    "    li = []\n",
    "    for filename in all_files:\n",
    "        count = count + 1\n",
    "        if count >= file_lwr_ and count <= file_upper_:\n",
    "            x = pd.read_csv(filename, index_col=None, header=0, sep = '\\t')\n",
    "            li.append(x)\n",
    "    Assembled_File = pd.concat(li, axis=0, ignore_index=True)\n",
    "    return Assembled_File"
   ]
  },
  {
   "cell_type": "markdown",
   "metadata": {},
   "source": [
    "File_Loader( )\n",
    "Used when the user only wants to load one file as an alternative\n",
    "\n",
    "INPUT:\n",
    "    File path\n",
    "    The number of file\n",
    "\n",
    "OUTPUT:\n",
    "    Dataframe containing the data\n"
   ]
  },
  {
   "cell_type": "code",
   "execution_count": 3,
   "metadata": {},
   "outputs": [],
   "source": [
    "#Since now the scenario has changed, File_assembler is no longer needed at most times. A File_loader is written below\n",
    "#in order to load single files more efficiently. User passes in the path and also the order number of file.\n",
    "def File_Loader(path_, file_no_):\n",
    "    all_files = glob.glob(path_ + \"/*.txt\")\n",
    "    count = 0\n",
    "    for filename in all_files:\n",
    "        count = count + 1\n",
    "        if count == file_no_:\n",
    "            file_ = pd.read_csv(filename, index_col=None, header=0, sep = '\\t')\n",
    "    return file_"
   ]
  },
  {
   "cell_type": "markdown",
   "metadata": {},
   "source": [
    "NONOX_data: A BIG function that reproduces the excel sheet's NONOX data, leaving only PMAX\n",
    "Input\n",
    "    Data from File_Assembler or File_Loader\n",
    "    Time_alignment_constant, which is found to be 265 CAD in excel sheet 255\n",
    "    TDC, EVO, EVC: 600, 128, 382 in excel sheet.\n",
    "    NOoffset: The magical -390 constant when calculating NO average\n",
    "    Engine cycle period: 720 for ours\n",
    "Output\n",
    "    Dataframe that contains all NONOX data in excel sheet."
   ]
  },
  {
   "cell_type": "code",
   "execution_count": 7,
   "metadata": {
    "scrolled": false
   },
   "outputs": [],
   "source": [
    "def NONOX_data(Assembled_Data, time_alignment_constant_, TDC, EVO, EVC, NOoffset, Engine_Cycle_Period_):\n",
    "#-------------------------------------------------tidy up the original dataframe-----------------------------------------\n",
    "    #replace variable names for convenience\n",
    "    a = Assembled_Data\n",
    "    p = Engine_Cycle_Period_\n",
    "    # drop all unneccessary columns, and the units row.\n",
    "    a = a[['Crank Angle', 'NO', 'NOx']].drop([0])\n",
    "    # change data types from strings to floats\n",
    "    a = a.astype('float64')\n",
    "    # drop all rows with 0 values\n",
    "    a = a[a.NO != 0.0000]\n",
    "    #reset the index and drop original index column\n",
    "    a = a.reset_index().drop(['index'], axis=1)\n",
    "    #set crank angle as the index\n",
    "    a = a.set_index('Crank Angle')\n",
    "    \n",
    "#---------------------------------------------Generate basic data from existing data----------------------------------------\n",
    "    # Create two columns for NONOX in ppm\n",
    "    a['NO_ppm'] = a['NO'] * 200\n",
    "    a['NOx_ppm'] = a['NOx'] * 200\n",
    "    # Create NOx time aligned by shifting Nox_ppm values up by time constant amount \n",
    "    a['NOx_ppm_ta'] = a['NOx_ppm'].shift(-time_alignment_constant_)\n",
    "    # Create NO2 column\n",
    "    a['NO2'] = a['NOx_ppm_ta'] - a['NO_ppm']\n",
    "    # Create NO2/NOx column\n",
    "    a['NO2/NOx'] = a['NO2'] / a['NOx_ppm_ta']\n",
    "\n",
    "#---------------------------------------------Generate Average NO, NOx since CAD 75000--------------------------------------\n",
    "    # Fill the columns since CAD 75000\n",
    "    x = 0\n",
    "    while (x*p - NOoffset + TDC + EVC < a.shape[0]):\n",
    "        a.loc[75000+x, 'NO_Avg'] = a['NO_ppm'].loc[75000 + x*p - NOoffset + TDC + EVO : 75000 + x*p - NOoffset + TDC + EVC].mean()\n",
    "        a.loc[75000+x, 'NOx_Avg'] = a['NOx_ppm'].loc[75000 + x*p + TDC + EVO : 75000 + x*p + TDC + EVC].mean()\n",
    "        x = x + 1\n",
    "#--------------------------------------------NO2 avg and NO2/No avg--------------------------------------------------------\n",
    "    a['NO2_Avg'] = a['NOx_Avg'] - a['NO_Avg']\n",
    "    a['NO2/NO_Avg'] = a['NO2_Avg'] / a['NOx_Avg']\n",
    "\n",
    "    return a"
   ]
  },
  {
   "cell_type": "code",
   "execution_count": null,
   "metadata": {},
   "outputs": [],
   "source": [
    "#######################################Break the above function into small ones ############################################"
   ]
  },
  {
   "cell_type": "markdown",
   "metadata": {},
   "source": [
    "Filter_NONOX( ):\n",
    "    This function filters the original dataframe to contain only NO, NOx (V) indexed by crank angle"
   ]
  },
  {
   "cell_type": "code",
   "execution_count": 276,
   "metadata": {},
   "outputs": [],
   "source": [
    "def Filter_NONOX(Assembled_Data):\n",
    "#-------------------------------------------------tidy up the original dataframe-----------------------------------------\n",
    "    #replace variable names for convenience\n",
    "    a = Assembled_Data\n",
    "    # drop all unneccessary columns, and the units row.\n",
    "    a = a[['Crank Angle', 'NO', 'NOx']].drop([0])\n",
    "    # change data types from strings to floats\n",
    "    a = a.astype('float64')\n",
    "    # drop all rows with 0 values\n",
    "    a = a[a.NO != 0.0000]\n",
    "    #reset the index and drop original index column\n",
    "    a = a.reset_index().drop(['index'], axis=1)\n",
    "    #set crank angle as the index\n",
    "    a = a.set_index('Crank Angle')\n",
    "    return a"
   ]
  },
  {
   "cell_type": "markdown",
   "metadata": {},
   "source": [
    "TimeAlignmentNO2( )\n",
    "With the user supplying NONOX filtered dataframe:\n",
    "    This function adds columns for:\n",
    "        NO NOX in ppm\n",
    "        NOX timealigned\n",
    "        NO2 and NO2/NOX\n",
    "    "
   ]
  },
  {
   "cell_type": "code",
   "execution_count": 279,
   "metadata": {},
   "outputs": [],
   "source": [
    "def TimeAlignmentNO2(Filter_NONOX_Output_, time_alignment_constant_):\n",
    "#-------------------------------------------------tidy up the original dataframe-----------------------------------------\n",
    "    #replace variable names for convenience\n",
    "    a = Filter_NONOX_Output_\n",
    "    \n",
    "#---------------------------------------------Generate basic data from existing data----------------------------------------\n",
    "    # Create two columns for NONOX in ppm\n",
    "    a['NO_ppm'] = a['NO'] * 200\n",
    "    a['NOx_ppm'] = a['NOx'] * 200\n",
    "    # Create NOx time aligned by shifting Nox_ppm values up by time constant amount \n",
    "    a['NOx_ppm_ta'] = a['NOx_ppm'].shift(-time_alignment_constant_)\n",
    "    # Create NO2 column\n",
    "    a['NO2'] = a['NOx_ppm_ta'] - a['NO_ppm']\n",
    "    # Create NO2/NOx column\n",
    "    a['NO2/NOx'] = a['NO2'] / a['NOx_ppm_ta']\n",
    "    return a"
   ]
  },
  {
   "cell_type": "markdown",
   "metadata": {},
   "source": [
    "NONOX_Cyclic_Avg( ):\n",
    "    A funtion that calculates the average of NO NOx within sampling window from CAD 75000 onwards, and generate NO2 NO2/NOX average.\n",
    "\n",
    "INPUT:\n",
    "    Output of TimeAlignmentNO2\n",
    "    TDC EVO EVC\n",
    "    NOoffset: the magical 390 in excel sheet 255\n",
    "    Engine period of 720\n",
    "OUTPUT: \n",
    "    After this function, one should be able to obtain a dataframe containing all NONOX data."
   ]
  },
  {
   "cell_type": "code",
   "execution_count": 282,
   "metadata": {},
   "outputs": [],
   "source": [
    "def NONOX_Cyclic_Avg(TimeAlignmentNO2_Output_, TDC, EVO, EVC, NOoffset, Engine_Cycle_Period_):\n",
    "    #simplify variable name for convenience\n",
    "    a = TimeAlignmentNO2_Output_\n",
    "    p = Engine_Cycle_Period_\n",
    "    x = 0\n",
    "    while (x*p - NOoffset + TDC + EVC < a.shape[0]):\n",
    "        a.loc[75000+x, 'NO_Avg'] = a['NO_ppm'].loc[75000 + x*p - NOoffset + TDC + EVO : 75000 + x*p - NOoffset + TDC + EVC].mean()\n",
    "        a.loc[75000+x, 'NOx_Avg'] = a['NOx_ppm'].loc[75000 + x*p + TDC + EVO : 75000 + x*p + TDC + EVC].mean()\n",
    "        x = x + 1\n",
    "        \n",
    "    a['NO2_Avg'] = a['NOx_Avg'] - a['NO_Avg']\n",
    "    a['NO2/NO_Avg'] = a['NO2_Avg'] / a['NOx_Avg']\n",
    "\n",
    "    return a"
   ]
  },
  {
   "cell_type": "markdown",
   "metadata": {},
   "source": [
    "NO_NOx_plotter( )\n",
    "Plots NO NOx data against crank angle.\n",
    "\n",
    "Input:\n",
    "    The NONOx filtered dataframe.\n",
    "    Start and end CAD he wishes to plot, by default 0 - 4319999.\n",
    "    Whether to plot NO, NOx or both\n",
    "    y lower and upper limit, 0 and 9 by default, which is the range of the entire dataframe.\n",
    "\n",
    "Output: NO NOX plot."
   ]
  },
  {
   "cell_type": "code",
   "execution_count": 99,
   "metadata": {},
   "outputs": [],
   "source": [
    "def NONOX_v_plotter(Filtered_data_, NOoffset_, Start_Crank_Angle_ = -360, End_Crank_Angle_ = 431640, plot_NO = True, plot_NOx = True, y_lower_limit_ = 0, y_upper_limit_ = 3):\n",
    "    axes = plt.gca()\n",
    "    a = Filtered_data_\n",
    "    c = NOoffset_\n",
    "    sca = Start_Crank_Angle_\n",
    "    eca = End_Crank_Angle_\n",
    "    yll = y_lower_limit_\n",
    "    yul = y_upper_limit_\n",
    "    #FROM EXCEL SHEET 255, CRANK ANGLE STARTS AT 75390, NO STARTS AT 75000\n",
    "    a['NOshifted'] = a['NO'].shift(c)\n",
    "    if plot_NO == True and plot_NOx == True:\n",
    "        a.reset_index().reset_index().iloc[sca + 360 : eca + 360].plot(kind='line', x='index', y='NOshifted', label = 'NO', ylim = (yll , yul), ax=axes)\n",
    "        a.reset_index().reset_index().iloc[sca + 360 : eca + 360].plot(kind='line', x='index', y='NOx', ylim = (yll , yul), ax=axes)\n",
    "    elif plot_NO == True and plot_NOx == False:\n",
    "        a.reset_index().reset_index().iloc[sca + 360 : eca + 360].plot(kind='line', x='index', y='NOshifted', label = 'NO', ylim = (yll , yul), ax=axes)\n",
    "    else:\n",
    "        a.reset_index().reset_index().iloc[sca + 360 : eca + 360].plot(kind='line', x='index', y='NOx', ylim = (yll , yul), ax=axes)\n",
    "    axes.set(xlabel=\"Crank Angle\", ylabel=\"V\")\n",
    "    a.drop(columns=['NOshifted'])\n",
    "    plt.show()\n",
    "#as an example, we want to plot from \"engine\", from 205000 CAD to 215000 degree, the variation of NOx only:\n",
    "#NO_NOx_plotter(engine, 205000, 215000, False, True)\n",
    "#or, as False = 0, and True = 1:\n",
    "#NO_NOx_plotter(engine, 205000, 215000, 0, 1)"
   ]
  },
  {
   "cell_type": "code",
   "execution_count": 140,
   "metadata": {},
   "outputs": [],
   "source": [
    "def NONOX_ppm_plotter(Filtered_data_, NOoffset_, Start_Crank_Angle_ = -360, End_Crank_Angle_ = 431640, plot_NO = True, plot_NOx = True, plot_ratio = True, y_lower_limit_ = 0, y_upper_limit_ = 600, ylwrlmt_right = -0.5, yuprlmt_right = 0.5):\n",
    "    axes = plt.gca()\n",
    "    a = Filtered_data_\n",
    "    c = NOoffset_\n",
    "    sca = Start_Crank_Angle_\n",
    "    eca = End_Crank_Angle_\n",
    "    yll = y_lower_limit_\n",
    "    yul = y_upper_limit_\n",
    "    yllr = ylwrlmt_right\n",
    "    yulr = yuprlmt_right\n",
    "    #FROM EXCEL 255, IT IS SEEN THAT THE DATA ARE ACTUALLY REVERSED, WHY IS THAT?\n",
    "    #i.e CRANK ANGLE STARTS AT 75000, NO and NO2/NOX STARTS AT 75390\n",
    "    #The SHIFTING DIRECTION HAS BEEN REVERSED!\n",
    "    a['NOshifted_ppm'] = a['NO_ppm'].shift(-c)\n",
    "    a['NO2/NOxshifted'] = a['NO2/NOx'].shift(-c)\n",
    "    if plot_NO == True and plot_NOx == True and plot_ratio == True:\n",
    "        a.reset_index().reset_index().iloc[sca + 360 : eca + 360].plot(kind='line', x='index', y='NOshifted_ppm', label = 'NO_ppm', ylim = (yll , yul), ax=axes)\n",
    "        a.reset_index().reset_index().iloc[sca + 360 : eca + 360].plot(kind='line', x='index', y='NOx_ppm', ylim = (yll , yul), ax=axes)\n",
    "        a.reset_index().reset_index().iloc[sca + 360 : eca + 360].plot(kind='line', x='index', y='NO2/NOxshifted',secondary_y=True, label = 'NO2/NOx', ax=axes)\n",
    "        axes.right_ax.set_ylim(yllr,yulr)\n",
    "    elif plot_NO == True and plot_NOx == True and plot_ratio == False:\n",
    "        a.reset_index().reset_index().iloc[sca + 360 : eca + 360].plot(kind='line', x='index', y='NOshifted_ppm', label = 'NO_ppm', ylim = (yll , yul), ax=axes)\n",
    "        a.reset_index().reset_index().iloc[sca + 360 : eca + 360].plot(kind='line', x='index', y='NOx_ppm', ylim = (yll , yul), ax=axes)\n",
    "    elif plot_NO == True and plot_NOx == False and plot_ratio == True:\n",
    "        a.reset_index().reset_index().iloc[sca + 360 : eca + 360].plot(kind='line', x='index', y='NOshifted_ppm', label = 'NO_ppm', ylim = (yll , yul), ax=axes)\n",
    "        a.reset_index().reset_index().iloc[sca + 360 : eca + 360].plot(kind='line', x='index', y='NO2/NOxshifted',secondary_y=True, label = 'NO2/NOx', ax=axes)\n",
    "        axes.right_ax.set_ylim(yllr,yulr)\n",
    "    elif plot_NO == True and plot_NOx == False and plot_ratio == False:\n",
    "        a.reset_index().reset_index().iloc[sca + 360 : eca + 360].plot(kind='line', x='index', y='NOshifted_ppm', label = 'NO_ppm', ylim = (yll , yul), ax=axes)\n",
    "    elif plot_NO == False and plot_NOx == True and plot_ratio == True:\n",
    "        a.reset_index().reset_index().iloc[sca + 360 : eca + 360].plot(kind='line', x='index', y='NOx_ppm', ylim = (yll , yul), ax=axes)\n",
    "        a.reset_index().reset_index().iloc[sca + 360 : eca + 360].plot(kind='line', x='index', y='NO2/NOxshifted',secondary_y=True, label = 'NO2/NOx', ax=axes)\n",
    "        axes.right_ax.set_ylim(yllr,yulr)\n",
    "    elif plot_NO == False and plot_NOx == True and plot_ratio == False:\n",
    "        a.reset_index().reset_index().iloc[sca + 360 : eca + 360].plot(kind='line', x='index', y='NOx_ppm', ylim = (yll , yul), ax=axes)\n",
    "    elif plot_NO == False and plot_NOx == False and plot_ratio == True:\n",
    "        a.reset_index().reset_index().iloc[sca + 360 : eca + 360].plot(kind='line', x='index', y='NO2/NOxshifted',secondary_y=True, label = 'NO2/NOx', ax=axes)\n",
    "        axes.right_ax.set_ylim(yllr,yulr)\n",
    "    axes.set(xlabel=\"Crank Angle\", ylabel=\"ppm\")\n",
    "    #a = a.drop(columns=['NOshifted_ppm', 'NO2/NOxshifted'])\n",
    "    plt.show()\n",
    "    return a\n",
    "#as an example, we want to plot from \"engine\", from 205000 CAD to 215000 degree, the variation of NOx only:\n",
    "#NO_NOx_plotter(engine, 205000, 215000, False, True)\n",
    "#or, as False = 0, and True = 1:\n",
    "#NO_NOx_plotter(engine, 205000, 215000, 0, 1)"
   ]
  },
  {
   "cell_type": "markdown",
   "metadata": {},
   "source": [
    "Filter_Shifted( )\n",
    "    The function aims to clean up and get rid of the extra shifted columns generated from the plots functions\n",
    "    as I did not manage to find a way to stop the functions generating the extra columns\n",
    "INPUT:\n",
    "    The dataframe after plots, two boolean variables to indicate whether the user has used the two plot functions\n",
    "    by default, the user is assumed to NOT have plotted, hence the function wont do anything\n",
    "\n",
    "OUTPUT:\n",
    "    Cleaned dataframe"
   ]
  },
  {
   "cell_type": "code",
   "execution_count": 151,
   "metadata": {},
   "outputs": [],
   "source": [
    "def Filter_Shifted(Plots_Output, NO_v_plotted = False, NO_ratio_ppm_plotted = False):\n",
    "    a = Plots_Output\n",
    "    if NO_v_plotted == True and NO_ratio_ppm_plotted == True:\n",
    "        a = a.drop(columns = ['NOshifted', 'NOshifted_ppm', 'NO2/NOxshifted'])\n",
    "    elif NO_v_plotted == True and NO_ratio_ppm_plotted == False:\n",
    "        a = a.drop(columns = ['NOshifted'])\n",
    "    elif NO_v_plotted == False and NO_ratio_ppm_plotted == True:\n",
    "        a = a.drop(columns = ['NOshifted_ppm', 'NO2/NOxshifted'])\n",
    "\n",
    "    return a"
   ]
  },
  {
   "cell_type": "markdown",
   "metadata": {},
   "source": [
    "Time( )\n",
    "    This function calculates the average time taken after each crank angle, and allows user to input the starting crank angle."
   ]
  },
  {
   "cell_type": "code",
   "execution_count": 3,
   "metadata": {},
   "outputs": [],
   "source": [
    "def Time(dataframe, Start_Crank_Angle):\n",
    "    a = dataframe\n",
    "    s = Start_Crank_Angle\n",
    "    Avg_Time = []\n",
    "    for value in a.index:\n",
    "        Avg_Time.append((360 + value)*0.04)\n",
    "    a['Avg_Time'] = Avg_Time\n",
    "    a['Avg_Time'] = a['Avg_Time'].shift(s + 360)\n",
    "    return a"
   ]
  },
  {
   "cell_type": "markdown",
   "metadata": {},
   "source": [
    "NONOX_separator( ):\n",
    "A function that is able to separate data within sampling window and data out of sampling window.\n",
    "\n",
    "Input:\n",
    "    NONOX filtered dataframe\n",
    "    Window width\n",
    "    Window offset\n",
    "    Engine cycle period\n",
    "Output:\n",
    "    Dataframe containing data within sampling window.\n",
    "    Dataframe containing the other data."
   ]
  },
  {
   "cell_type": "code",
   "execution_count": null,
   "metadata": {},
   "outputs": [],
   "source": [
    "def NONOX_separator(NONOXDataframe_, Window_Width_, Offset_, Period_):\n",
    "    Data_Within_Window_ = pd.DataFrame([], columns = ['Crank Angle', 'NO', 'NOx'])\n",
    "    x = 0\n",
    "    while (Offset_ + x * Period_ < NONOXDataframe_.shape[0]):\n",
    "            samples = NONOXDataframe_.iloc[(Offset_ + x * Period_) : (Offset_ + x * Period_ + Window_Width_)]\n",
    "            Data_Within_Window_ = Data_Within_Window_.append(samples)\n",
    "            x = x + 1\n",
    "    Data_Outside_Window_ = pd.DataFrame([], columns = ['Crank Angle', 'NO', 'NOx'])\n",
    "    Data_Outside_Window_ = NONOXDataframe_[~NONOXDataframe_.index.isin(Data_Within_Window_.index)]\n",
    "    \n",
    "    return Data_Within_Window_, Data_Outside_Window_"
   ]
  },
  {
   "cell_type": "code",
   "execution_count": null,
   "metadata": {},
   "outputs": [],
   "source": [
    "############################################## PRESSURE FUNCTIONS FROM NOW ON##############################################"
   ]
  },
  {
   "cell_type": "markdown",
   "metadata": {},
   "source": [
    "Filter_PCYL1( ):\n",
    "\n",
    "Input:\n",
    "    Data from File_Assembler or File_Loader.\n",
    "\n",
    "Output: \n",
    "    Dataframe that contains only Crank Angle, PCYL1."
   ]
  },
  {
   "cell_type": "code",
   "execution_count": 4,
   "metadata": {},
   "outputs": [],
   "source": [
    "def Filter_PCYL1(Assembled_Data):\n",
    "    # drop all unneccessary columns, and the units row.\n",
    "    Assembled_Data_filtered = Assembled_Data[['Crank Angle', 'PCYL1']].drop([0])\n",
    "    # change data types from strings to floats\n",
    "    Assembled_Data_filtered = Assembled_Data_filtered.astype('float64')\n",
    "    #reset the index and drop original index column\n",
    "    Assembled_Data_filtered = Assembled_Data_filtered.set_index(['Crank Angle'])\n",
    "    #Assembled_Data_filtered = Assembled_Data_filtered.reset_index().drop(['index'], axis=1)\n",
    "    #Make Crank Angle start at 0 instead of -360\n",
    "    #Assembled_Data_filtered['Crank Angle'] = Assembled_Data_filtered['Crank Angle'] + 360\n",
    "\n",
    "    return Assembled_Data_filtered"
   ]
  },
  {
   "cell_type": "markdown",
   "metadata": {},
   "source": [
    "Psample()\n",
    "    This function returns a dataframe that contains samples of PCYL1 per CAD\n",
    "    As it requires stepping, the user should input his own Start_CAD, so only part of the large dataframe\n",
    "    needs to be sampled"
   ]
  },
  {
   "cell_type": "code",
   "execution_count": 122,
   "metadata": {},
   "outputs": [],
   "source": [
    "def Psample(P_Dataframe_, Start_CAD = -360):\n",
    "    #set variable name for convenience\n",
    "    P_sampled = pd.DataFrame([])\n",
    "    a = P_Dataframe_\n",
    "    x = 0\n",
    "    #while x <= P_Dataframe_.index.value_counts().count() - 360 - Start_CAD:\n",
    "    while x <= P_Dataframe_.index.max() - Start_CAD:\n",
    "    #The sampling is only PSEUDO random, we can ensure the same sample taken by specifying random_state\n",
    "    #Is this necessary though?\n",
    "        sample = P_Dataframe_.loc[Start_CAD + x].sample(n = 1, random_state = 1)\n",
    "        P_sampled = pd.concat([P_sampled, sample])\n",
    "        x = x+1\n",
    "    return P_sampled\n",
    "        "
   ]
  },
  {
   "cell_type": "markdown",
   "metadata": {},
   "source": [
    "PMAX( ):\n",
    "Extracts cyclic maximum PCYL1.\n",
    "\n",
    "INPUT:\n",
    "    PCYL1 filtered dataframe\n",
    "    Offset of engine cycle (how much CAD does the engine go through before the first recorded cycle)\n",
    "    Engine cycle period\n",
    "OUTPUT:\n",
    "    A dataframe that contains maximum PCYL1 for every engine cycle"
   ]
  },
  {
   "cell_type": "code",
   "execution_count": 40,
   "metadata": {},
   "outputs": [],
   "source": [
    "def PMAX(P_sampled, Start_Crank_Angle_ = -360, Period_ = 720):\n",
    "    PMAX_ = pd.DataFrame([], columns = ['PMAX'])\n",
    "    x = 0\n",
    "    \n",
    "    #Take one sample from the multiple Ps per degree.\n",
    "    #The sampling is only PSEUDO random, we can ensure the same sample taken by specifying random_state\n",
    "    #Is this necessary though?\n",
    "    #P_group = (P_Dataframe_.groupby(['Crank Angle']))\n",
    "    P_sample = P_group.apply(lambda y: y.sample(n = 1, random_state = 1))\n",
    "    #P_sample = (P_Dataframe_.groupby(['Crank Angle'])).sample(n = 1, random_state = 1)\n",
    "    while ((Start_Crank_Angle_ + x * Period_) < P_sample.shape[0]):\n",
    "        #Find the max pressure value for every 720 degree cycle, append to the PMAX_ dataframe.\n",
    "        PMAX_.loc[x+1] = list(P_sample.loc[x * Period_: (x + 1) * Period_ - 1].max())\n",
    "        #increment x\n",
    "        x = x + 1\n",
    "    #Drop the last value of PMAX_, as there were originally 432001 records instead of 432000, need further clarification\n",
    "    #PMAX_ = PMAX_.drop(PMAX_.shape[0])\n",
    "    return PMAX_\n",
    "#The output dataframe should have its index as the number of cycles."
   ]
  }
 ],
 "metadata": {
  "kernelspec": {
   "display_name": "Python 3",
   "language": "python",
   "name": "python3"
  },
  "language_info": {
   "codemirror_mode": {
    "name": "ipython",
    "version": 3
   },
   "file_extension": ".py",
   "mimetype": "text/x-python",
   "name": "python",
   "nbconvert_exporter": "python",
   "pygments_lexer": "ipython3",
   "version": "3.7.6"
  }
 },
 "nbformat": 4,
 "nbformat_minor": 4
}
