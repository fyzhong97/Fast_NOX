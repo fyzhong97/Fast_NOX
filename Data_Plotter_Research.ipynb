{
 "cells": [
  {
   "cell_type": "markdown",
   "metadata": {},
   "source": [
    "This is the code for the data extractor."
   ]
  },
  {
   "cell_type": "markdown",
   "metadata": {},
   "source": [
    "First, some maintenance work."
   ]
  },
  {
   "cell_type": "code",
   "execution_count": 44,
   "metadata": {},
   "outputs": [],
   "source": [
    "import matplotlib.pyplot as plt\n",
    "import numpy as np\n",
    "import pandas as pd\n",
    "import glob\n",
    "\n",
    "#let python display all columns on output.\n",
    "pd.set_option('display.max_columns', None)"
   ]
  },
  {
   "cell_type": "markdown",
   "metadata": {},
   "source": [
    "File_Assember( ):\n",
    "Read one or multiple concatenated files into a dataframe.\n",
    "\n",
    "Input: file path.\n",
    "\n",
    "Output: A pandas dataframe."
   ]
  },
  {
   "cell_type": "code",
   "execution_count": 45,
   "metadata": {},
   "outputs": [],
   "source": [
    "#set the file path, users can change to their own paths\n",
    "path = r'C:\\Users\\Eric Zhong\\Documents\\2.INTERNSHIP\\RESEARCH\\iFiles_for_Leo'\n",
    "\n",
    "#The function passes in the file path and file_no_, which means the number of file in order. \n",
    "#For example, we want to read the 5th txt file only: File_Assembler(path_, 5, 5)\n",
    "#If we want to read files 1 - 7: File_Assembler(path_, 1, 7)\n",
    "#in total 58 txt files for now\n",
    "\n",
    "def File_Assembler(path_, file_lwr_, file_upper_):\n",
    "    all_files = glob.glob(path_ + \"/*.txt\")\n",
    "    count = 0\n",
    "    #create an empty array, and use a for loop to append files to the array.\n",
    "    li = []\n",
    "    for filename in all_files:\n",
    "        count = count + 1\n",
    "        if count >= file_lwr_ and count <= file_upper_:\n",
    "            x = pd.read_csv(filename, index_col=None, header=0, sep = '\\t')\n",
    "            li.append(x)\n",
    "    Assembled_File = pd.concat(li, axis=0, ignore_index=True)\n",
    "    return Assembled_File"
   ]
  },
  {
   "cell_type": "markdown",
   "metadata": {},
   "source": [
    "File_Loader( )\n",
    "Used when the user only wants to load one file as an alternative\n",
    "\n",
    "INPUT:\n",
    "    File path\n",
    "    The number of file\n",
    "\n",
    "OUTPUT:\n",
    "    Dataframe containing the data\n"
   ]
  },
  {
   "cell_type": "code",
   "execution_count": 124,
   "metadata": {},
   "outputs": [],
   "source": [
    "#Since now the scenario has changed, File_assembler is no longer needed at most times. A File_loader is written below\n",
    "#in order to load single files more efficiently. User passes in the path and also the order number of file.\n",
    "def File_Loader(path_, file_no_):\n",
    "    all_files = glob.glob(path_ + \"/*.txt\")\n",
    "    count = 0\n",
    "    for filename in all_files:\n",
    "        count = count + 1\n",
    "        if count == file_no_:\n",
    "            file_ = pd.read_csv(filename, index_col=None, header=0, sep = '\\t')\n",
    "    return file_"
   ]
  },
  {
   "cell_type": "markdown",
   "metadata": {},
   "source": [
    "Engine Parameters:\n",
    "    The function that helps calculate some engine parameters\n",
    "\n",
    "INPUT:\n",
    "    EVO\n",
    "    EVC\n",
    "    Number of strokes\n",
    "OUTPUT:\n",
    "    Engine cycle period\n",
    "    Sampling window width\n",
    "    Sampling window offset"
   ]
  },
  {
   "cell_type": "code",
   "execution_count": null,
   "metadata": {},
   "outputs": [],
   "source": [
    "#according to the papers:\n",
    "            #Window_Width = EVC - EVO\n",
    "    \n",
    "#There is an \"offset\", which is the CAD before sampling window takes place in the first cycle: \n",
    "            #Offset = Total_Crank_Rotation - Window_Width\n",
    "\n",
    "#Period of the cyclic sampling process, which is simply the total crank rotation in a full engine cycle:\n",
    "            #Period = Total_Crank_Rotation = (Stroke_Number / 2) * 360\n",
    "def Engine_Parameters(EVO_Degree_, EVC_Degree_, Stroke_Number_):\n",
    "    Period_ = (Stroke_Number_ / 2) * 360\n",
    "    Window_Width_ = EVC_Degree_ - EVO_Degree_\n",
    "    Window_Offset_ = Period_ - Window_Width_\n",
    "    return Period_, Window_Width_, Window_Offset_\n",
    "#With our engine as example: \n",
    "#EVO = 128\n",
    "#EVC = 382\n",
    "#Stroke_Number = 4\n",
    "#User can use the function like this:\n",
    "(Period, Window_Width, Offset) = Engine_Parameters(128, 382, 4)"
   ]
  },
  {
   "cell_type": "markdown",
   "metadata": {},
   "source": [
    "Filter_NONOX( ):\n",
    "Input\n",
    "    Data from File_Assembler or File_Loader.\n",
    "\n",
    "Output\n",
    "    Dataframe that contains only Crank Angle, NO, NOx."
   ]
  },
  {
   "cell_type": "code",
   "execution_count": 5,
   "metadata": {
    "scrolled": false
   },
   "outputs": [],
   "source": [
    "def Filter_NONOX(Assembled_Data):\n",
    "    # drop all unneccessary columns, and the units row.\n",
    "    Assembled_Data_filtered = Assembled_Data[['Crank Angle', 'NO', 'NOx']].drop([0])\n",
    "    # change data types from strings to floats\n",
    "    Assembled_Data_filtered = Assembled_Data_filtered.astype('float64')\n",
    "    # drop all rows with 0 values\n",
    "    Assembled_Data_filtered = Assembled_Data_filtered[Assembled_Data_filtered.NO != 0.0000]\n",
    "    #reset the index and drop original index column\n",
    "    Assembled_Data_filtered = Assembled_Data_filtered.reset_index().drop(['index'], axis=1)\n",
    "\n",
    "    #Change Crank Angle to a continuous series, rather than -360 to 3600 for each file.\n",
    "    Assembled_Data_filtered['Crank Angle'] = Assembled_Data_filtered.index\n",
    "    return Assembled_Data_filtered"
   ]
  },
  {
   "cell_type": "markdown",
   "metadata": {},
   "source": [
    "NONOX_Cyclic_Avg( ):\n",
    "    A funtion that calculates the average of NO NOx within sampling window.\n",
    "\n",
    "INPUT:\n",
    "    NONOX filtered dataframe\n",
    "    Sampling window width\n",
    "    Sampling window offset\n",
    "    Engine cycle period\n",
    "OUTPUT: \n",
    "    A dataframe containing average value of NO, NOx for each cycle."
   ]
  },
  {
   "cell_type": "code",
   "execution_count": 6,
   "metadata": {},
   "outputs": [],
   "source": [
    "def NONOX_Cyclic_Avg(NONOXDataframe_, Window_Width_, Offset_, Period_):\n",
    "    Cyclic_Avg_ = pd.DataFrame([], columns = ['NO_Avg', 'NOx_Avg'])\n",
    "    x = 0\n",
    "    while (Offset_ + x * Period_ < NONOXDataframe_.shape[0]):\n",
    "        Cyclic_Avg_.loc[x+1, 'NO_Avg'] = (NONOXDataframe_['NO'].iloc[Offset_ + Period_ * x : Offset_ + Period_ * x + Window_Width_].mean())\n",
    "        Cyclic_Avg_.loc[x+1, 'NOx_Avg'] = (NONOXDataframe_['NOx'].iloc[Offset_ + Period_ * x : Offset_ + Period_ * x + Window_Width_].mean())\n",
    "        x = x + 1\n",
    "    return Cyclic_Avg_"
   ]
  },
  {
   "cell_type": "markdown",
   "metadata": {},
   "source": [
    "NO_NOx_plotter( )\n",
    "Plots NO NOx data against crank angle.\n",
    "\n",
    "Input:\n",
    "    The NONOx filtered dataframe.\n",
    "    Start and end CAD he wishes to plot, by default 0 - 4319999.\n",
    "    Whether to plot NO, NOx or both\n",
    "    y lower and upper limit, 0 and 9 by default, which is the range of the entire dataframe.\n",
    "\n",
    "Output: NO NOX plot."
   ]
  },
  {
   "cell_type": "code",
   "execution_count": null,
   "metadata": {},
   "outputs": [],
   "source": [
    "def NONOX_plotter(Filtered_data_, Start_Crank_Angle_ = 0, End_Crank_Angle_ = 4319999, plot_NO = True, plot_NOx = True, y_lower_limit_ = 0, y_upper_limit_ = 9):\n",
    "    axes = plt.gca()\n",
    "    if plot_NO == True and plot_NOx == True:\n",
    "        Filtered_data_.iloc[Start_Crank_Angle_ : End_Crank_Angle_].plot(kind='line', x='Crank Angle', y='NO', ylim = (y_lower_limit_ , y_upper_limit_), ax=axes)\n",
    "        Filtered_data_.iloc[Start_Crank_Angle_ : End_Crank_Angle_].plot(kind='line', x='Crank Angle', y='NOx', ylim = (y_lower_limit_ , y_upper_limit_), ax=axes)\n",
    "    elif plot_NO == True and plot_NOx == False:\n",
    "        Filtered_data_.iloc[Start_Crank_Angle_ : End_Crank_Angle_].plot(kind='line', x='Crank Angle', y='NO', ylim = (y_lower_limit_ , y_upper_limit_), ax=axes)\n",
    "    else:\n",
    "        Filtered_data_.iloc[Start_Crank_Angle_ : End_Crank_Angle_].plot(kind='line', x='Crank Angle', y='NOx', ylim = (y_lower_limit_ , y_upper_limit_), ax=axes)\n",
    "    plt.show()\n",
    "#as an example, we want to plot from \"engine\", from 205000 CAD to 215000 degree, the variation of NOx only:\n",
    "#NO_NOx_plotter(engine, 205000, 215000, False, True)\n",
    "#or, as False = 0, and True = 1:\n",
    "#NO_NOx_plotter(engine, 205000, 215000, 0, 1)"
   ]
  },
  {
   "cell_type": "markdown",
   "metadata": {},
   "source": [
    "NONOX_separator( ):\n",
    "A function that is able to separate data within sampling window and data out of sampling window.\n",
    "\n",
    "Input:\n",
    "    NONOX filtered dataframe\n",
    "    Window width\n",
    "    Window offset\n",
    "    Engine cycle period\n",
    "Output:\n",
    "    Dataframe containing data within sampling window.\n",
    "    Dataframe containing the other data."
   ]
  },
  {
   "cell_type": "code",
   "execution_count": null,
   "metadata": {},
   "outputs": [],
   "source": [
    "def NONOX_separator(NONOXDataframe_, Window_Width_, Offset_, Period_):\n",
    "    Data_Within_Window_ = pd.DataFrame([], columns = ['Crank Angle', 'NO', 'NOx'])\n",
    "    x = 0\n",
    "    while (Offset_ + x * Period_ < NONOXDataframe_.shape[0]):\n",
    "            samples = NONOXDataframe_.iloc[(Offset_ + x * Period_) : (Offset_ + x * Period_ + Window_Width_)]\n",
    "            Data_Within_Window_ = Data_Within_Window_.append(samples)\n",
    "            x = x + 1\n",
    "    Data_Outside_Window_ = pd.DataFrame([], columns = ['Crank Angle', 'NO', 'NOx'])\n",
    "    Data_Outside_Window_ = NONOXDataframe_[~NONOXDataframe_.index.isin(Data_Within_Window_.index)]\n",
    "    \n",
    "    return Data_Within_Window_, Data_Outside_Window_"
   ]
  },
  {
   "cell_type": "code",
   "execution_count": null,
   "metadata": {},
   "outputs": [],
   "source": [
    "############################################## PRESSURE FUNCTIONS FROM NOW ON##############################################"
   ]
  },
  {
   "cell_type": "markdown",
   "metadata": {},
   "source": [
    "Filter_PCYL1( ):\n",
    "\n",
    "Input:\n",
    "    Data from File_Assembler or File_Loader.\n",
    "\n",
    "Output: \n",
    "    Dataframe that contains only Crank Angle, PCYL1."
   ]
  },
  {
   "cell_type": "code",
   "execution_count": 122,
   "metadata": {},
   "outputs": [],
   "source": [
    "def Filter_PCYL1(Assembled_Data):\n",
    "    # drop all unneccessary columns, and the units row.\n",
    "    Assembled_Data_filtered = Assembled_Data[['Crank Angle', 'PCYL1']].drop([0])\n",
    "    # change data types from strings to floats\n",
    "    Assembled_Data_filtered = Assembled_Data_filtered.astype('float64')\n",
    "    #reset the index and drop original index column\n",
    "    Assembled_Data_filtered = Assembled_Data_filtered.reset_index().drop(['index'], axis=1)\n",
    "    #Make Crank Angle start at 0 instead of -360\n",
    "    Assembled_Data_filtered['Crank Angle'] = Assembled_Data_filtered['Crank Angle'] + 360\n",
    "\n",
    "    return Assembled_Data_filtered"
   ]
  },
  {
   "cell_type": "markdown",
   "metadata": {},
   "source": [
    "PMAX( ):\n",
    "Extracts cyclic maximum PCYL1.\n",
    "\n",
    "INPUT:\n",
    "    PCYL1 filtered dataframe\n",
    "    Offset of engine cycle (how much CAD does the engine go through before the first recorded cycle)\n",
    "    Engine cycle period\n",
    "OUTPUT:\n",
    "    A dataframe that contains maximum PCYL1 for every engine cycle"
   ]
  },
  {
   "cell_type": "code",
   "execution_count": 8,
   "metadata": {},
   "outputs": [],
   "source": [
    "def PMAX(P_Dataframe_, EngineCycle_Offset_, Period_):\n",
    "    PMAX_ = pd.DataFrame([], columns = ['PMAX'])\n",
    "    x = 0\n",
    "    \n",
    "    #Find the PMAX per degree, since there are multiple Ps per degree.\n",
    "    PMax_Per_Degree_ = P_Dataframe_.groupby(['Crank Angle']).max()\n",
    "    while ((EngineCycle_Offset_ + x * Period_) < PMax_Per_Degree_.shape[0]):\n",
    "        #Find the max pressure value for every 720 degree cycle, append to the PMAX_ dataframe.\n",
    "        PMAX_.loc[x+1] = list(PMax_Per_Degree_.loc[x * Period_: (x + 1) * Period_ - 1].max())\n",
    "        #increment x\n",
    "        x = x + 1\n",
    "    #Drop the last value of PMAX_, as there were originally 432001 records instead of 432000, need further clarification\n",
    "    #PMAX_ = PMAX_.drop(PMAX_.shape[0])\n",
    "    return PMAX_\n",
    "#The output dataframe should have its index as the number of cycles."
   ]
  }
 ],
 "metadata": {
  "kernelspec": {
   "display_name": "Python 3",
   "language": "python",
   "name": "python3"
  },
  "language_info": {
   "codemirror_mode": {
    "name": "ipython",
    "version": 3
   },
   "file_extension": ".py",
   "mimetype": "text/x-python",
   "name": "python",
   "nbconvert_exporter": "python",
   "pygments_lexer": "ipython3",
   "version": "3.7.6"
  }
 },
 "nbformat": 4,
 "nbformat_minor": 4
}
